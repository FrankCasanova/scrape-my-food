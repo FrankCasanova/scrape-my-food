{
 "cells": [
  {
   "cell_type": "code",
   "execution_count": 76,
   "metadata": {},
   "outputs": [],
   "source": [
    "import httpx\n",
    "from selectolax.parser import HTMLParser\n",
    "import json\n"
   ]
  },
  {
   "cell_type": "code",
   "execution_count": 89,
   "metadata": {},
   "outputs": [],
   "source": [
    "HEADERS = {\n",
    "\n",
    "    'Accept': 'text/html,application/xhtml+xml,application/xml;q=0.9,image/webp,image/apng,*/*;q=0.8,application/signed-exchange;v=b3;q=0.7',\n",
    "    'Accept-Encoding': 'gzip, deflate, br',\n",
    "    'Accept-Language': 'en-US,en;q=0.9',\n",
    "    'User-Agent': 'Mozilla/5.0 (Windows NT 10.0; Win64; x64) AppleWebKit/537.36 (KHTML, like Gecko) Chrome/117.0.0.0 Safari/537.36 Edg/117.0.2045.60',\n",
    "\n",
    "}"
   ]
  },
  {
   "cell_type": "code",
   "execution_count": 88,
   "metadata": {},
   "outputs": [],
   "source": [
    "url = 'https://www.supermercadoseljamon.com/detalle/-/Producto/picos-finos-integrales-250g/23025302'"
   ]
  },
  {
   "cell_type": "code",
   "execution_count": 87,
   "metadata": {},
   "outputs": [],
   "source": [
    "COOKIES = {\n",
    "    'cc_cookie_accept': 'cc_cookie_accept',\n",
    "    '_ga': 'GA1.1.681758706.1696963591',\n",
    "    # 'c': 'f1e5ab2f-0847-4780-8f8f-725675cd2bd9',\n",
    "    '_ga_F7B04CC3Z1': 'GS1.1.1696963590.1.1.1696963606.44.0.0',\n",
    "    'TS017a7ab7': '01301e525b6f07fa63d863807cbf75e89b8aa602c6d9209ea1108e582b7eff270a887e08da7880ae9781ab10af3d2ce68e918193db',\n",
    "    'COOKIE_SUPPORT': 'true',\n",
    "    'GUEST_LANGUAGE_ID': 'es_ES',\n",
    "        \n",
    "}"
   ]
  },
  {
   "cell_type": "code",
   "execution_count": 94,
   "metadata": {},
   "outputs": [
    {
     "ename": "SSLCertVerificationError",
     "evalue": "[SSL: CERTIFICATE_VERIFY_FAILED] certificate verify failed: unable to get local issuer certificate (_ssl.c:1006)",
     "output_type": "error",
     "traceback": [
      "\u001b[1;31m---------------------------------------------------------------------------\u001b[0m",
      "\u001b[1;31mSSLCertVerificationError\u001b[0m                  Traceback (most recent call last)",
      "\u001b[1;32mc:\\Users\\frank\\Desktop\\scrape-food\\test.ipynb Cell 5\u001b[0m line \u001b[0;36m2\n\u001b[0;32m      <a href='vscode-notebook-cell:/c%3A/Users/frank/Desktop/scrape-food/test.ipynb#X11sZmlsZQ%3D%3D?line=0'>1</a>\u001b[0m \u001b[39masync\u001b[39;00m \u001b[39mwith\u001b[39;00m httpx\u001b[39m.\u001b[39mAsyncClient() \u001b[39mas\u001b[39;00m client:\n\u001b[1;32m----> <a href='vscode-notebook-cell:/c%3A/Users/frank/Desktop/scrape-food/test.ipynb#X11sZmlsZQ%3D%3D?line=1'>2</a>\u001b[0m     r \u001b[39m=\u001b[39m \u001b[39mawait\u001b[39;00m client\u001b[39m.\u001b[39mget(url, headers\u001b[39m=\u001b[39mHEADERS)\n",
      "File \u001b[1;32mc:\\Users\\frank\\.virtualenvs\\scrape-food-fIATZb4Q\\Lib\\site-packages\\httpx\\_client.py:1757\u001b[0m, in \u001b[0;36mAsyncClient.get\u001b[1;34m(self, url, params, headers, cookies, auth, follow_redirects, timeout, extensions)\u001b[0m\n\u001b[0;32m   1740\u001b[0m \u001b[39masync\u001b[39;00m \u001b[39mdef\u001b[39;00m \u001b[39mget\u001b[39m(\n\u001b[0;32m   1741\u001b[0m     \u001b[39mself\u001b[39m,\n\u001b[0;32m   1742\u001b[0m     url: URLTypes,\n\u001b[1;32m   (...)\u001b[0m\n\u001b[0;32m   1750\u001b[0m     extensions: typing\u001b[39m.\u001b[39mOptional[RequestExtensions] \u001b[39m=\u001b[39m \u001b[39mNone\u001b[39;00m,\n\u001b[0;32m   1751\u001b[0m ) \u001b[39m-\u001b[39m\u001b[39m>\u001b[39m Response:\n\u001b[0;32m   1752\u001b[0m \u001b[39m    \u001b[39m\u001b[39m\"\"\"\u001b[39;00m\n\u001b[0;32m   1753\u001b[0m \u001b[39m    Send a `GET` request.\u001b[39;00m\n\u001b[0;32m   1754\u001b[0m \n\u001b[0;32m   1755\u001b[0m \u001b[39m    **Parameters**: See `httpx.request`.\u001b[39;00m\n\u001b[0;32m   1756\u001b[0m \u001b[39m    \"\"\"\u001b[39;00m\n\u001b[1;32m-> 1757\u001b[0m     \u001b[39mreturn\u001b[39;00m \u001b[39mawait\u001b[39;00m \u001b[39mself\u001b[39m\u001b[39m.\u001b[39mrequest(\n\u001b[0;32m   1758\u001b[0m         \u001b[39m\"\u001b[39m\u001b[39mGET\u001b[39m\u001b[39m\"\u001b[39m,\n\u001b[0;32m   1759\u001b[0m         url,\n\u001b[0;32m   1760\u001b[0m         params\u001b[39m=\u001b[39mparams,\n\u001b[0;32m   1761\u001b[0m         headers\u001b[39m=\u001b[39mheaders,\n\u001b[0;32m   1762\u001b[0m         cookies\u001b[39m=\u001b[39mcookies,\n\u001b[0;32m   1763\u001b[0m         auth\u001b[39m=\u001b[39mauth,\n\u001b[0;32m   1764\u001b[0m         follow_redirects\u001b[39m=\u001b[39mfollow_redirects,\n\u001b[0;32m   1765\u001b[0m         timeout\u001b[39m=\u001b[39mtimeout,\n\u001b[0;32m   1766\u001b[0m         extensions\u001b[39m=\u001b[39mextensions,\n\u001b[0;32m   1767\u001b[0m     )\n",
      "File \u001b[1;32mc:\\Users\\frank\\.virtualenvs\\scrape-food-fIATZb4Q\\Lib\\site-packages\\httpx\\_client.py:1530\u001b[0m, in \u001b[0;36mAsyncClient.request\u001b[1;34m(self, method, url, content, data, files, json, params, headers, cookies, auth, follow_redirects, timeout, extensions)\u001b[0m\n\u001b[0;32m   1501\u001b[0m \u001b[39m\u001b[39m\u001b[39m\"\"\"\u001b[39;00m\n\u001b[0;32m   1502\u001b[0m \u001b[39mBuild and send a request.\u001b[39;00m\n\u001b[0;32m   1503\u001b[0m \n\u001b[1;32m   (...)\u001b[0m\n\u001b[0;32m   1515\u001b[0m \u001b[39m[0]: /advanced/#merging-of-configuration\u001b[39;00m\n\u001b[0;32m   1516\u001b[0m \u001b[39m\"\"\"\u001b[39;00m\n\u001b[0;32m   1517\u001b[0m request \u001b[39m=\u001b[39m \u001b[39mself\u001b[39m\u001b[39m.\u001b[39mbuild_request(\n\u001b[0;32m   1518\u001b[0m     method\u001b[39m=\u001b[39mmethod,\n\u001b[0;32m   1519\u001b[0m     url\u001b[39m=\u001b[39murl,\n\u001b[1;32m   (...)\u001b[0m\n\u001b[0;32m   1528\u001b[0m     extensions\u001b[39m=\u001b[39mextensions,\n\u001b[0;32m   1529\u001b[0m )\n\u001b[1;32m-> 1530\u001b[0m \u001b[39mreturn\u001b[39;00m \u001b[39mawait\u001b[39;00m \u001b[39mself\u001b[39m\u001b[39m.\u001b[39msend(request, auth\u001b[39m=\u001b[39mauth, follow_redirects\u001b[39m=\u001b[39mfollow_redirects)\n",
      "File \u001b[1;32mc:\\Users\\frank\\.virtualenvs\\scrape-food-fIATZb4Q\\Lib\\site-packages\\httpx\\_client.py:1617\u001b[0m, in \u001b[0;36mAsyncClient.send\u001b[1;34m(self, request, stream, auth, follow_redirects)\u001b[0m\n\u001b[0;32m   1609\u001b[0m follow_redirects \u001b[39m=\u001b[39m (\n\u001b[0;32m   1610\u001b[0m     \u001b[39mself\u001b[39m\u001b[39m.\u001b[39mfollow_redirects\n\u001b[0;32m   1611\u001b[0m     \u001b[39mif\u001b[39;00m \u001b[39misinstance\u001b[39m(follow_redirects, UseClientDefault)\n\u001b[0;32m   1612\u001b[0m     \u001b[39melse\u001b[39;00m follow_redirects\n\u001b[0;32m   1613\u001b[0m )\n\u001b[0;32m   1615\u001b[0m auth \u001b[39m=\u001b[39m \u001b[39mself\u001b[39m\u001b[39m.\u001b[39m_build_request_auth(request, auth)\n\u001b[1;32m-> 1617\u001b[0m response \u001b[39m=\u001b[39m \u001b[39mawait\u001b[39;00m \u001b[39mself\u001b[39m\u001b[39m.\u001b[39m_send_handling_auth(\n\u001b[0;32m   1618\u001b[0m     request,\n\u001b[0;32m   1619\u001b[0m     auth\u001b[39m=\u001b[39mauth,\n\u001b[0;32m   1620\u001b[0m     follow_redirects\u001b[39m=\u001b[39mfollow_redirects,\n\u001b[0;32m   1621\u001b[0m     history\u001b[39m=\u001b[39m[],\n\u001b[0;32m   1622\u001b[0m )\n\u001b[0;32m   1623\u001b[0m \u001b[39mtry\u001b[39;00m:\n\u001b[0;32m   1624\u001b[0m     \u001b[39mif\u001b[39;00m \u001b[39mnot\u001b[39;00m stream:\n",
      "File \u001b[1;32mc:\\Users\\frank\\.virtualenvs\\scrape-food-fIATZb4Q\\Lib\\site-packages\\httpx\\_client.py:1645\u001b[0m, in \u001b[0;36mAsyncClient._send_handling_auth\u001b[1;34m(self, request, auth, follow_redirects, history)\u001b[0m\n\u001b[0;32m   1642\u001b[0m request \u001b[39m=\u001b[39m \u001b[39mawait\u001b[39;00m auth_flow\u001b[39m.\u001b[39m\u001b[39m__anext__\u001b[39m()\n\u001b[0;32m   1644\u001b[0m \u001b[39mwhile\u001b[39;00m \u001b[39mTrue\u001b[39;00m:\n\u001b[1;32m-> 1645\u001b[0m     response \u001b[39m=\u001b[39m \u001b[39mawait\u001b[39;00m \u001b[39mself\u001b[39m\u001b[39m.\u001b[39m_send_handling_redirects(\n\u001b[0;32m   1646\u001b[0m         request,\n\u001b[0;32m   1647\u001b[0m         follow_redirects\u001b[39m=\u001b[39mfollow_redirects,\n\u001b[0;32m   1648\u001b[0m         history\u001b[39m=\u001b[39mhistory,\n\u001b[0;32m   1649\u001b[0m     )\n\u001b[0;32m   1650\u001b[0m     \u001b[39mtry\u001b[39;00m:\n\u001b[0;32m   1651\u001b[0m         \u001b[39mtry\u001b[39;00m:\n",
      "File \u001b[1;32mc:\\Users\\frank\\.virtualenvs\\scrape-food-fIATZb4Q\\Lib\\site-packages\\httpx\\_client.py:1682\u001b[0m, in \u001b[0;36mAsyncClient._send_handling_redirects\u001b[1;34m(self, request, follow_redirects, history)\u001b[0m\n\u001b[0;32m   1679\u001b[0m \u001b[39mfor\u001b[39;00m hook \u001b[39min\u001b[39;00m \u001b[39mself\u001b[39m\u001b[39m.\u001b[39m_event_hooks[\u001b[39m\"\u001b[39m\u001b[39mrequest\u001b[39m\u001b[39m\"\u001b[39m]:\n\u001b[0;32m   1680\u001b[0m     \u001b[39mawait\u001b[39;00m hook(request)\n\u001b[1;32m-> 1682\u001b[0m response \u001b[39m=\u001b[39m \u001b[39mawait\u001b[39;00m \u001b[39mself\u001b[39m\u001b[39m.\u001b[39m_send_single_request(request)\n\u001b[0;32m   1683\u001b[0m \u001b[39mtry\u001b[39;00m:\n\u001b[0;32m   1684\u001b[0m     \u001b[39mfor\u001b[39;00m hook \u001b[39min\u001b[39;00m \u001b[39mself\u001b[39m\u001b[39m.\u001b[39m_event_hooks[\u001b[39m\"\u001b[39m\u001b[39mresponse\u001b[39m\u001b[39m\"\u001b[39m]:\n",
      "File \u001b[1;32mc:\\Users\\frank\\.virtualenvs\\scrape-food-fIATZb4Q\\Lib\\site-packages\\httpx\\_client.py:1719\u001b[0m, in \u001b[0;36mAsyncClient._send_single_request\u001b[1;34m(self, request)\u001b[0m\n\u001b[0;32m   1714\u001b[0m     \u001b[39mraise\u001b[39;00m \u001b[39mRuntimeError\u001b[39;00m(\n\u001b[0;32m   1715\u001b[0m         \u001b[39m\"\u001b[39m\u001b[39mAttempted to send an sync request with an AsyncClient instance.\u001b[39m\u001b[39m\"\u001b[39m\n\u001b[0;32m   1716\u001b[0m     )\n\u001b[0;32m   1718\u001b[0m \u001b[39mwith\u001b[39;00m request_context(request\u001b[39m=\u001b[39mrequest):\n\u001b[1;32m-> 1719\u001b[0m     response \u001b[39m=\u001b[39m \u001b[39mawait\u001b[39;00m transport\u001b[39m.\u001b[39mhandle_async_request(request)\n\u001b[0;32m   1721\u001b[0m \u001b[39massert\u001b[39;00m \u001b[39misinstance\u001b[39m(response\u001b[39m.\u001b[39mstream, AsyncByteStream)\n\u001b[0;32m   1722\u001b[0m response\u001b[39m.\u001b[39mrequest \u001b[39m=\u001b[39m request\n",
      "File \u001b[1;32mc:\\Users\\frank\\.virtualenvs\\scrape-food-fIATZb4Q\\Lib\\site-packages\\httpx\\_transports\\default.py:366\u001b[0m, in \u001b[0;36mAsyncHTTPTransport.handle_async_request\u001b[1;34m(self, request)\u001b[0m\n\u001b[0;32m    353\u001b[0m req \u001b[39m=\u001b[39m httpcore\u001b[39m.\u001b[39mRequest(\n\u001b[0;32m    354\u001b[0m     method\u001b[39m=\u001b[39mrequest\u001b[39m.\u001b[39mmethod,\n\u001b[0;32m    355\u001b[0m     url\u001b[39m=\u001b[39mhttpcore\u001b[39m.\u001b[39mURL(\n\u001b[1;32m   (...)\u001b[0m\n\u001b[0;32m    363\u001b[0m     extensions\u001b[39m=\u001b[39mrequest\u001b[39m.\u001b[39mextensions,\n\u001b[0;32m    364\u001b[0m )\n\u001b[0;32m    365\u001b[0m \u001b[39mwith\u001b[39;00m map_httpcore_exceptions():\n\u001b[1;32m--> 366\u001b[0m     resp \u001b[39m=\u001b[39m \u001b[39mawait\u001b[39;00m \u001b[39mself\u001b[39m\u001b[39m.\u001b[39m_pool\u001b[39m.\u001b[39mhandle_async_request(req)\n\u001b[0;32m    368\u001b[0m \u001b[39massert\u001b[39;00m \u001b[39misinstance\u001b[39m(resp\u001b[39m.\u001b[39mstream, typing\u001b[39m.\u001b[39mAsyncIterable)\n\u001b[0;32m    370\u001b[0m \u001b[39mreturn\u001b[39;00m Response(\n\u001b[0;32m    371\u001b[0m     status_code\u001b[39m=\u001b[39mresp\u001b[39m.\u001b[39mstatus,\n\u001b[0;32m    372\u001b[0m     headers\u001b[39m=\u001b[39mresp\u001b[39m.\u001b[39mheaders,\n\u001b[0;32m    373\u001b[0m     stream\u001b[39m=\u001b[39mAsyncResponseStream(resp\u001b[39m.\u001b[39mstream),\n\u001b[0;32m    374\u001b[0m     extensions\u001b[39m=\u001b[39mresp\u001b[39m.\u001b[39mextensions,\n\u001b[0;32m    375\u001b[0m )\n",
      "File \u001b[1;32mc:\\Users\\frank\\.virtualenvs\\scrape-food-fIATZb4Q\\Lib\\site-packages\\httpcore\\_async\\connection_pool.py:262\u001b[0m, in \u001b[0;36mAsyncConnectionPool.handle_async_request\u001b[1;34m(self, request)\u001b[0m\n\u001b[0;32m    260\u001b[0m     \u001b[39mwith\u001b[39;00m AsyncShieldCancellation():\n\u001b[0;32m    261\u001b[0m         \u001b[39mawait\u001b[39;00m \u001b[39mself\u001b[39m\u001b[39m.\u001b[39mresponse_closed(status)\n\u001b[1;32m--> 262\u001b[0m     \u001b[39mraise\u001b[39;00m exc\n\u001b[0;32m    263\u001b[0m \u001b[39melse\u001b[39;00m:\n\u001b[0;32m    264\u001b[0m     \u001b[39mbreak\u001b[39;00m\n",
      "File \u001b[1;32mc:\\Users\\frank\\.virtualenvs\\scrape-food-fIATZb4Q\\Lib\\site-packages\\httpcore\\_async\\connection_pool.py:245\u001b[0m, in \u001b[0;36mAsyncConnectionPool.handle_async_request\u001b[1;34m(self, request)\u001b[0m\n\u001b[0;32m    242\u001b[0m         \u001b[39mraise\u001b[39;00m exc\n\u001b[0;32m    244\u001b[0m \u001b[39mtry\u001b[39;00m:\n\u001b[1;32m--> 245\u001b[0m     response \u001b[39m=\u001b[39m \u001b[39mawait\u001b[39;00m connection\u001b[39m.\u001b[39mhandle_async_request(request)\n\u001b[0;32m    246\u001b[0m \u001b[39mexcept\u001b[39;00m ConnectionNotAvailable:\n\u001b[0;32m    247\u001b[0m     \u001b[39m# The ConnectionNotAvailable exception is a special case, that\u001b[39;00m\n\u001b[0;32m    248\u001b[0m     \u001b[39m# indicates we need to retry the request on a new connection.\u001b[39;00m\n\u001b[1;32m   (...)\u001b[0m\n\u001b[0;32m    252\u001b[0m     \u001b[39m# might end up as an HTTP/2 connection, but which actually ends\u001b[39;00m\n\u001b[0;32m    253\u001b[0m     \u001b[39m# up as HTTP/1.1.\u001b[39;00m\n\u001b[0;32m    254\u001b[0m     \u001b[39masync\u001b[39;00m \u001b[39mwith\u001b[39;00m \u001b[39mself\u001b[39m\u001b[39m.\u001b[39m_pool_lock:\n\u001b[0;32m    255\u001b[0m         \u001b[39m# Maintain our position in the request queue, but reset the\u001b[39;00m\n\u001b[0;32m    256\u001b[0m         \u001b[39m# status so that the request becomes queued again.\u001b[39;00m\n",
      "File \u001b[1;32mc:\\Users\\frank\\.virtualenvs\\scrape-food-fIATZb4Q\\Lib\\site-packages\\httpcore\\_async\\connection.py:99\u001b[0m, in \u001b[0;36mAsyncHTTPConnection.handle_async_request\u001b[1;34m(self, request)\u001b[0m\n\u001b[0;32m     97\u001b[0m     \u001b[39mexcept\u001b[39;00m \u001b[39mException\u001b[39;00m \u001b[39mas\u001b[39;00m exc:\n\u001b[0;32m     98\u001b[0m         \u001b[39mself\u001b[39m\u001b[39m.\u001b[39m_connect_failed \u001b[39m=\u001b[39m \u001b[39mTrue\u001b[39;00m\n\u001b[1;32m---> 99\u001b[0m         \u001b[39mraise\u001b[39;00m exc\n\u001b[0;32m    100\u001b[0m \u001b[39melif\u001b[39;00m \u001b[39mnot\u001b[39;00m \u001b[39mself\u001b[39m\u001b[39m.\u001b[39m_connection\u001b[39m.\u001b[39mis_available():\n\u001b[0;32m    101\u001b[0m     \u001b[39mraise\u001b[39;00m ConnectionNotAvailable()\n",
      "File \u001b[1;32mc:\\Users\\frank\\.virtualenvs\\scrape-food-fIATZb4Q\\Lib\\site-packages\\httpcore\\_async\\connection.py:76\u001b[0m, in \u001b[0;36mAsyncHTTPConnection.handle_async_request\u001b[1;34m(self, request)\u001b[0m\n\u001b[0;32m     74\u001b[0m \u001b[39mif\u001b[39;00m \u001b[39mself\u001b[39m\u001b[39m.\u001b[39m_connection \u001b[39mis\u001b[39;00m \u001b[39mNone\u001b[39;00m:\n\u001b[0;32m     75\u001b[0m     \u001b[39mtry\u001b[39;00m:\n\u001b[1;32m---> 76\u001b[0m         stream \u001b[39m=\u001b[39m \u001b[39mawait\u001b[39;00m \u001b[39mself\u001b[39m\u001b[39m.\u001b[39m_connect(request)\n\u001b[0;32m     78\u001b[0m         ssl_object \u001b[39m=\u001b[39m stream\u001b[39m.\u001b[39mget_extra_info(\u001b[39m\"\u001b[39m\u001b[39mssl_object\u001b[39m\u001b[39m\"\u001b[39m)\n\u001b[0;32m     79\u001b[0m         http2_negotiated \u001b[39m=\u001b[39m (\n\u001b[0;32m     80\u001b[0m             ssl_object \u001b[39mis\u001b[39;00m \u001b[39mnot\u001b[39;00m \u001b[39mNone\u001b[39;00m\n\u001b[0;32m     81\u001b[0m             \u001b[39mand\u001b[39;00m ssl_object\u001b[39m.\u001b[39mselected_alpn_protocol() \u001b[39m==\u001b[39m \u001b[39m\"\u001b[39m\u001b[39mh2\u001b[39m\u001b[39m\"\u001b[39m\n\u001b[0;32m     82\u001b[0m         )\n",
      "File \u001b[1;32mc:\\Users\\frank\\.virtualenvs\\scrape-food-fIATZb4Q\\Lib\\site-packages\\httpcore\\_async\\connection.py:156\u001b[0m, in \u001b[0;36mAsyncHTTPConnection._connect\u001b[1;34m(self, request)\u001b[0m\n\u001b[0;32m    149\u001b[0m     kwargs \u001b[39m=\u001b[39m {\n\u001b[0;32m    150\u001b[0m         \u001b[39m\"\u001b[39m\u001b[39mssl_context\u001b[39m\u001b[39m\"\u001b[39m: ssl_context,\n\u001b[0;32m    151\u001b[0m         \u001b[39m\"\u001b[39m\u001b[39mserver_hostname\u001b[39m\u001b[39m\"\u001b[39m: sni_hostname\n\u001b[0;32m    152\u001b[0m         \u001b[39mor\u001b[39;00m \u001b[39mself\u001b[39m\u001b[39m.\u001b[39m_origin\u001b[39m.\u001b[39mhost\u001b[39m.\u001b[39mdecode(\u001b[39m\"\u001b[39m\u001b[39mascii\u001b[39m\u001b[39m\"\u001b[39m),\n\u001b[0;32m    153\u001b[0m         \u001b[39m\"\u001b[39m\u001b[39mtimeout\u001b[39m\u001b[39m\"\u001b[39m: timeout,\n\u001b[0;32m    154\u001b[0m     }\n\u001b[0;32m    155\u001b[0m     \u001b[39masync\u001b[39;00m \u001b[39mwith\u001b[39;00m Trace(\u001b[39m\"\u001b[39m\u001b[39mstart_tls\u001b[39m\u001b[39m\"\u001b[39m, logger, request, kwargs) \u001b[39mas\u001b[39;00m trace:\n\u001b[1;32m--> 156\u001b[0m         stream \u001b[39m=\u001b[39m \u001b[39mawait\u001b[39;00m stream\u001b[39m.\u001b[39mstart_tls(\u001b[39m*\u001b[39m\u001b[39m*\u001b[39mkwargs)\n\u001b[0;32m    157\u001b[0m         trace\u001b[39m.\u001b[39mreturn_value \u001b[39m=\u001b[39m stream\n\u001b[0;32m    158\u001b[0m \u001b[39mreturn\u001b[39;00m stream\n",
      "File \u001b[1;32mc:\\Users\\frank\\.virtualenvs\\scrape-food-fIATZb4Q\\Lib\\site-packages\\httpcore\\_backends\\anyio.py:78\u001b[0m, in \u001b[0;36mAnyIOStream.start_tls\u001b[1;34m(self, ssl_context, server_hostname, timeout)\u001b[0m\n\u001b[0;32m     76\u001b[0m     \u001b[39mexcept\u001b[39;00m \u001b[39mException\u001b[39;00m \u001b[39mas\u001b[39;00m exc:  \u001b[39m# pragma: nocover\u001b[39;00m\n\u001b[0;32m     77\u001b[0m         \u001b[39mawait\u001b[39;00m \u001b[39mself\u001b[39m\u001b[39m.\u001b[39maclose()\n\u001b[1;32m---> 78\u001b[0m         \u001b[39mraise\u001b[39;00m exc\n\u001b[0;32m     79\u001b[0m \u001b[39mreturn\u001b[39;00m AnyIOStream(ssl_stream)\n",
      "File \u001b[1;32mc:\\Users\\frank\\.virtualenvs\\scrape-food-fIATZb4Q\\Lib\\site-packages\\httpcore\\_backends\\anyio.py:69\u001b[0m, in \u001b[0;36mAnyIOStream.start_tls\u001b[1;34m(self, ssl_context, server_hostname, timeout)\u001b[0m\n\u001b[0;32m     67\u001b[0m \u001b[39mtry\u001b[39;00m:\n\u001b[0;32m     68\u001b[0m     \u001b[39mwith\u001b[39;00m anyio\u001b[39m.\u001b[39mfail_after(timeout):\n\u001b[1;32m---> 69\u001b[0m         ssl_stream \u001b[39m=\u001b[39m \u001b[39mawait\u001b[39;00m anyio\u001b[39m.\u001b[39mstreams\u001b[39m.\u001b[39mtls\u001b[39m.\u001b[39mTLSStream\u001b[39m.\u001b[39mwrap(\n\u001b[0;32m     70\u001b[0m             \u001b[39mself\u001b[39m\u001b[39m.\u001b[39m_stream,\n\u001b[0;32m     71\u001b[0m             ssl_context\u001b[39m=\u001b[39mssl_context,\n\u001b[0;32m     72\u001b[0m             hostname\u001b[39m=\u001b[39mserver_hostname,\n\u001b[0;32m     73\u001b[0m             standard_compatible\u001b[39m=\u001b[39m\u001b[39mFalse\u001b[39;00m,\n\u001b[0;32m     74\u001b[0m             server_side\u001b[39m=\u001b[39m\u001b[39mFalse\u001b[39;00m,\n\u001b[0;32m     75\u001b[0m         )\n\u001b[0;32m     76\u001b[0m \u001b[39mexcept\u001b[39;00m \u001b[39mException\u001b[39;00m \u001b[39mas\u001b[39;00m exc:  \u001b[39m# pragma: nocover\u001b[39;00m\n\u001b[0;32m     77\u001b[0m     \u001b[39mawait\u001b[39;00m \u001b[39mself\u001b[39m\u001b[39m.\u001b[39maclose()\n",
      "File \u001b[1;32mc:\\Users\\frank\\.virtualenvs\\scrape-food-fIATZb4Q\\Lib\\site-packages\\anyio\\streams\\tls.py:125\u001b[0m, in \u001b[0;36mTLSStream.wrap\u001b[1;34m(cls, transport_stream, server_side, hostname, ssl_context, standard_compatible)\u001b[0m\n\u001b[0;32m    115\u001b[0m ssl_object \u001b[39m=\u001b[39m ssl_context\u001b[39m.\u001b[39mwrap_bio(\n\u001b[0;32m    116\u001b[0m     bio_in, bio_out, server_side\u001b[39m=\u001b[39mserver_side, server_hostname\u001b[39m=\u001b[39mhostname\n\u001b[0;32m    117\u001b[0m )\n\u001b[0;32m    118\u001b[0m wrapper \u001b[39m=\u001b[39m \u001b[39mcls\u001b[39m(\n\u001b[0;32m    119\u001b[0m     transport_stream\u001b[39m=\u001b[39mtransport_stream,\n\u001b[0;32m    120\u001b[0m     standard_compatible\u001b[39m=\u001b[39mstandard_compatible,\n\u001b[1;32m   (...)\u001b[0m\n\u001b[0;32m    123\u001b[0m     _write_bio\u001b[39m=\u001b[39mbio_out,\n\u001b[0;32m    124\u001b[0m )\n\u001b[1;32m--> 125\u001b[0m \u001b[39mawait\u001b[39;00m wrapper\u001b[39m.\u001b[39m_call_sslobject_method(ssl_object\u001b[39m.\u001b[39mdo_handshake)\n\u001b[0;32m    126\u001b[0m \u001b[39mreturn\u001b[39;00m wrapper\n",
      "File \u001b[1;32mc:\\Users\\frank\\.virtualenvs\\scrape-food-fIATZb4Q\\Lib\\site-packages\\anyio\\streams\\tls.py:133\u001b[0m, in \u001b[0;36mTLSStream._call_sslobject_method\u001b[1;34m(self, func, *args)\u001b[0m\n\u001b[0;32m    131\u001b[0m \u001b[39mwhile\u001b[39;00m \u001b[39mTrue\u001b[39;00m:\n\u001b[0;32m    132\u001b[0m     \u001b[39mtry\u001b[39;00m:\n\u001b[1;32m--> 133\u001b[0m         result \u001b[39m=\u001b[39m func(\u001b[39m*\u001b[39;49margs)\n\u001b[0;32m    134\u001b[0m     \u001b[39mexcept\u001b[39;00m ssl\u001b[39m.\u001b[39mSSLWantReadError:\n\u001b[0;32m    135\u001b[0m         \u001b[39mtry\u001b[39;00m:\n\u001b[0;32m    136\u001b[0m             \u001b[39m# Flush any pending writes first\u001b[39;00m\n",
      "File \u001b[1;32m~\\AppData\\Local\\Programs\\Python\\Python311\\Lib\\ssl.py:979\u001b[0m, in \u001b[0;36mSSLObject.do_handshake\u001b[1;34m(self)\u001b[0m\n\u001b[0;32m    977\u001b[0m \u001b[39mdef\u001b[39;00m \u001b[39mdo_handshake\u001b[39m(\u001b[39mself\u001b[39m):\n\u001b[0;32m    978\u001b[0m \u001b[39m    \u001b[39m\u001b[39m\"\"\"Start the SSL/TLS handshake.\"\"\"\u001b[39;00m\n\u001b[1;32m--> 979\u001b[0m     \u001b[39mself\u001b[39m\u001b[39m.\u001b[39m_sslobj\u001b[39m.\u001b[39mdo_handshake()\n",
      "\u001b[1;31mSSLCertVerificationError\u001b[0m: [SSL: CERTIFICATE_VERIFY_FAILED] certificate verify failed: unable to get local issuer certificate (_ssl.c:1006)"
     ]
    }
   ],
   "source": [
    "\n",
    "async with httpx.AsyncClient() as client:\n",
    "    r = await client.get(url, headers=HEADERS)"
   ]
  },
  {
   "cell_type": "code",
   "execution_count": null,
   "metadata": {},
   "outputs": [],
   "source": [
    "\n",
    "\n"
   ]
  },
  {
   "cell_type": "code",
   "execution_count": null,
   "metadata": {},
   "outputs": [],
   "source": [
    "\n",
    "\n"
   ]
  },
  {
   "cell_type": "code",
   "execution_count": null,
   "metadata": {},
   "outputs": [],
   "source": []
  },
  {
   "cell_type": "code",
   "execution_count": null,
   "metadata": {},
   "outputs": [],
   "source": []
  }
 ],
 "metadata": {
  "kernelspec": {
   "display_name": "scrape-food-fIATZb4Q",
   "language": "python",
   "name": "python3"
  },
  "language_info": {
   "codemirror_mode": {
    "name": "ipython",
    "version": 3
   },
   "file_extension": ".py",
   "mimetype": "text/x-python",
   "name": "python",
   "nbconvert_exporter": "python",
   "pygments_lexer": "ipython3",
   "version": "3.11.5"
  }
 },
 "nbformat": 4,
 "nbformat_minor": 2
}
