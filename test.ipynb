{
 "cells": [
  {
   "cell_type": "code",
   "execution_count": 27,
   "metadata": {},
   "outputs": [],
   "source": [
    "import httpx\n",
    "from selectolax.parser import HTMLParser\n",
    "from config import *\n",
    "import re\n",
    "import json"
   ]
  },
  {
   "cell_type": "code",
   "execution_count": 28,
   "metadata": {},
   "outputs": [],
   "source": [
    "picos_dia=DIA_URL['picos_integrales']\n",
    "picos_mercadona=MERCADONA_URL['picos_integrales']\n",
    "picos_el_jamon=EL_JAMON_URL['picos_integrales']\n",
    "picos_carrefour=CARREFOUR_URL['picos_integrales']\n"
   ]
  },
  {
   "cell_type": "code",
   "execution_count": 29,
   "metadata": {},
   "outputs": [],
   "source": [
    "picos_list = [\n",
    "    picos_carrefour,\n",
    "    picos_dia,\n",
    "    picos_el_jamon,\n",
    "    picos_mercadona\n",
    "]\n"
   ]
  },
  {
   "cell_type": "code",
   "execution_count": 46,
   "metadata": {},
   "outputs": [
    {
     "name": "stdout",
     "output_type": "stream",
     "text": [
      "https://www.carrefour.es/supermercado/colines-integrales-carrefour-250-g/R-prod970952/p\n",
      "https://www.carrefour.es/supermercado/colines-integrales-carrefour-250-g/R-prod970952/p\n",
      "[{'title': 'Colines integrales Carrefour 250 g.', 'price': '0,93', 'price_kg': '3,72'}]\n",
      "https://www.dia.es/panes-harinas-y-masas/picos-y-panes-tostados/p/59304?analytics_list_id=S0001&analytics_list_name=search&index=1\n",
      "https://www.carrefour.es/supermercado/colines-integrales-carrefour-250-g/R-prod970952/p\n",
      "[{'title': 'Colines integrales Carrefour 250 g.', 'price': '0,93', 'price_kg': '3,72'}, {'title': 'Picos integrales El molino de Dia bolsa 250 g', 'price': '0,85', 'price_kg': '3,40'}]\n",
      "https://www.supermercadoseljamon.com/detalle/-/Producto/picos-finos-integrales-250g/23025302\n",
      "https://www.carrefour.es/supermercado/colines-integrales-carrefour-250-g/R-prod970952/p\n"
     ]
    },
    {
     "ename": "AttributeError",
     "evalue": "'NoneType' object has no attribute 'text'",
     "output_type": "error",
     "traceback": [
      "\u001b[1;31m---------------------------------------------------------------------------\u001b[0m",
      "\u001b[1;31mAttributeError\u001b[0m                            Traceback (most recent call last)",
      "\u001b[1;32mc:\\Users\\frank\\Desktop\\scrape-food\\test.ipynb Cell 4\u001b[0m line \u001b[0;36m5\n\u001b[0;32m     <a href='vscode-notebook-cell:/c%3A/Users/frank/Desktop/scrape-food/test.ipynb#W3sZmlsZQ%3D%3D?line=48'>49</a>\u001b[0m \u001b[39melse\u001b[39;00m:\n\u001b[0;32m     <a href='vscode-notebook-cell:/c%3A/Users/frank/Desktop/scrape-food/test.ipynb#W3sZmlsZQ%3D%3D?line=49'>50</a>\u001b[0m     price_original \u001b[39m=\u001b[39m parse\u001b[39m.\u001b[39mcss_first(\u001b[39m\"\u001b[39m\u001b[39m#_DetalleProductoFoodPortlet_WAR_comerzziaportletsfood_frmDatos > div.wrapp-detalle-precio > div.wrap-dp.dp-original > span\u001b[39m\u001b[39m\"\u001b[39m)\n\u001b[1;32m---> <a href='vscode-notebook-cell:/c%3A/Users/frank/Desktop/scrape-food/test.ipynb#W3sZmlsZQ%3D%3D?line=50'>51</a>\u001b[0m     price \u001b[39m=\u001b[39m price_original\u001b[39m.\u001b[39;49mtext()\n\u001b[0;32m     <a href='vscode-notebook-cell:/c%3A/Users/frank/Desktop/scrape-food/test.ipynb#W3sZmlsZQ%3D%3D?line=51'>52</a>\u001b[0m     price \u001b[39m=\u001b[39m re\u001b[39m.\u001b[39mfindall(\u001b[39mr\u001b[39m\u001b[39m'\u001b[39m\u001b[39m\\\u001b[39m\u001b[39md+,\u001b[39m\u001b[39m\\\u001b[39m\u001b[39md+\u001b[39m\u001b[39m'\u001b[39m, price)\n\u001b[0;32m     <a href='vscode-notebook-cell:/c%3A/Users/frank/Desktop/scrape-food/test.ipynb#W3sZmlsZQ%3D%3D?line=54'>55</a>\u001b[0m price_kg \u001b[39m=\u001b[39m parse\u001b[39m.\u001b[39mcss_first(\u001b[39m'\u001b[39m\u001b[39mdiv.texto-porKilo\u001b[39m\u001b[39m'\u001b[39m)\u001b[39m.\u001b[39mtext()\n",
      "\u001b[1;31mAttributeError\u001b[0m: 'NoneType' object has no attribute 'text'"
     ]
    }
   ],
   "source": [
    "products = []\n",
    "for url in picos_list:\n",
    "    print(url)\n",
    "    print(picos_carrefour)\n",
    "    if url == picos_carrefour:\n",
    "        response = httpx.get(url,headers=HEADERS)\n",
    "        html = response.content.decode('utf-8')\n",
    "        parser = HTMLParser(html)\n",
    "        title = parser.css_first('h1.product-header__name').text().strip()\n",
    "        price = parser.css_first('span.buybox__price').text().strip()\n",
    "        price = re.findall(r'\\d+,\\d+', price)\n",
    "        price_kg = parser.css_first('div.buybox__price-per-unit').text().strip()\n",
    "        price_kg = re.findall(r'\\d+,\\d+', price_kg)\n",
    "        carrefour = {\n",
    "            'title': title,\n",
    "            'price': price[0],\n",
    "            'price_kg': price_kg[0]\n",
    "        }\n",
    "        products.append(carrefour)\n",
    "    if url == picos_dia:\n",
    "        response = httpx.get(url,headers=HEADERS)\n",
    "        html = response.content.decode('utf-8')\n",
    "        parser = HTMLParser(html)\n",
    "        title = parser.css_first('h1.product-title').text().strip()\n",
    "        price = parser.css_first('p.buy-box__active-price').text().strip()\n",
    "        price = re.findall(r'\\d+,\\d+', price)\n",
    "        price_kg = parser.css_first('p.buy-box__price-per-unit').text().strip()\n",
    "        price_kg = re.findall(r'\\d+,\\d+', price_kg)\n",
    "        dia = {\n",
    "            'title': title,\n",
    "            'price': price[0],\n",
    "            'price_kg': price_kg[0]\n",
    "        }\n",
    "        products.append(dia)\n",
    "    if url == picos_el_jamon:\n",
    "        httpx.get('https://www.supermercadoseljamon.com/detalle/-/Producto/picos-finos-integrales-250g/23025302', headers=HEADERS, verify=False)\n",
    "        httpx.get('https://www.supermercadoseljamon.com/delegate/seleccionarCodPostalAjaxServletFood?accion=enviarCodPostal&cp=21004&locale=es', headers=HEADERS, verify=False)\n",
    "        \n",
    "        response = httpx.get(url,headers=HEADERS, verify=False)\n",
    "        html = response.content.decode('utf-8')\n",
    "        parse = HTMLParser(html)\n",
    "        title = parse.css_first('h1.tituloProducto').text()\n",
    "        price_rebajado = parse.css_first(\"#_DetalleProductoFoodPortlet_WAR_comerzziaportletsfood_frmDatos > div.wrapp-detalle-precio > div.wrap-dp.dp-oferta > span\")\n",
    "        if price_rebajado:\n",
    "            price = price_rebajado.text()\n",
    "            price = re.findall(r'\\d+,\\d+', price)\n",
    "            \n",
    "            \n",
    "        else:\n",
    "            price_original = parse.css_first(\"#_DetalleProductoFoodPortlet_WAR_comerzziaportletsfood_frmDatos > div.wrapp-detalle-precio > div.wrap-dp.dp-original > span\")\n",
    "            price = price_original.text()\n",
    "            price = re.findall(r'\\d+,\\d+', price)\n",
    "            \n",
    "            \n",
    "        price_kg = parse.css_first('div.texto-porKilo').text()\n",
    "        price_kg = re.findall(r'\\d+,\\d+', price_kg)\n",
    "        el_jamon = {\n",
    "        'title': title,\n",
    "        'price': price[0],\n",
    "        'price_kg': price_kg[0]\n",
    "        }\n",
    "        products.append(el_jamon)\n",
    "    \n",
    "    \n",
    "    # else:\n",
    "    #     HEADERS = {\n",
    "\n",
    "    # 'Accept': 'application/json',\n",
    "    # 'Accept-Encoding': 'gzip, deflate, br',\n",
    "    # 'Accept-Language': 'en-US,en;q=0.9',\n",
    "    # 'User-Agent': 'Mozilla/5.0 (Windows NT 10.0; Win64; x64) AppleWebKit/537.36 (KHTML, like Gecko) Chrome/117.0.0.0 Safari/537.36 Edg/117.0.2045.60',\n",
    "\n",
    "    #     }\n",
    "    #     response = httpx.get(url,headers=HEADERS)\n",
    "    #     html = response.content.decode('utf-8')\n",
    "    #     parser = HTMLParser(html)\n",
    "    #     data = response.json()\n",
    "    #     title =  data['display_name']\n",
    "    #     price = data['price_instructions']['unit_price']\n",
    "    #     price_kg = data['price_instructions']['bulk_price'] \n",
    "         \n",
    "        \n",
    "    #     mercadona = {\n",
    "    #         'title': title,\n",
    "    #         'price': price[0],\n",
    "    #         'price_kg': price_kg[0]\n",
    "    #     }\n",
    "    #     products.append(mercadona)\n",
    "        \n",
    "    \n",
    "    print(products)\n",
    "    \n",
    "\n",
    "            \n",
    "            \n",
    "        "
   ]
  },
  {
   "cell_type": "code",
   "execution_count": null,
   "metadata": {},
   "outputs": [],
   "source": []
  },
  {
   "cell_type": "code",
   "execution_count": null,
   "metadata": {},
   "outputs": [],
   "source": [
    "\n",
    "\n"
   ]
  },
  {
   "cell_type": "code",
   "execution_count": null,
   "metadata": {},
   "outputs": [],
   "source": []
  },
  {
   "cell_type": "code",
   "execution_count": null,
   "metadata": {},
   "outputs": [],
   "source": []
  }
 ],
 "metadata": {
  "kernelspec": {
   "display_name": "scrape-food-fIATZb4Q",
   "language": "python",
   "name": "python3"
  },
  "language_info": {
   "codemirror_mode": {
    "name": "ipython",
    "version": 3
   },
   "file_extension": ".py",
   "mimetype": "text/x-python",
   "name": "python",
   "nbconvert_exporter": "python",
   "pygments_lexer": "ipython3",
   "version": "3.11.5"
  }
 },
 "nbformat": 4,
 "nbformat_minor": 2
}
